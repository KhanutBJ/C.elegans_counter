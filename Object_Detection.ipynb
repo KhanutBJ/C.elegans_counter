{
  "cells": [
    {
      "cell_type": "markdown",
      "metadata": {
        "id": "view-in-github",
        "colab_type": "text"
      },
      "source": [
        "<a href=\"https://colab.research.google.com/github/KhanutBJ/C.elegans_counter/blob/main/Object_Detection.ipynb\" target=\"_parent\"><img src=\"https://colab.research.google.com/assets/colab-badge.svg\" alt=\"Open In Colab\"/></a>"
      ]
    },
    {
      "cell_type": "markdown",
      "metadata": {
        "id": "siNGrfWaXBcI"
      },
      "source": [
        "## **Object detection ด้วย FastAI**\n",
        "\n",
        "**Credit: Dr. Titipat Achakulvisut**\n",
        "\n",
        "Object detection การสร้างโมเดลมาเพื่อทำนายบริเวณที่มีวัตถุที่สนใจ และหลังจากนั้นทำนายว่าวัตถุในบริเวณที่สนใจเป็นวัตถุประเภทใด\n",
        "\n",
        "ในตัวอย่างนี้เราจะนำชุดข้อมูลจาก Kaggle: [Monkey, Cat and Dog detection](https://www.kaggle.com/datasets/tarunbisht11/yolo-animal-detection-small) มาตรวจจับและแยกประเภทของข้าวสาลีกัน\n",
        "\n",
        "ใน Notebook นี้เราจะทำการ\n",
        "- โหลดชุดข้อมูล\n",
        "- สร้างไฟล์ Object detection ในรูปแบบของ COCO format\n",
        "- รัน Object detection ด้วย FastAI"
      ]
    },
    {
      "cell_type": "code",
      "execution_count": null,
      "metadata": {
        "id": "bM9kXsIvXBcO",
        "colab": {
          "base_uri": "https://localhost:8080/"
        },
        "outputId": "9f1603ad-d691-4120-e7f5-40eb1fdc0eae"
      },
      "outputs": [
        {
          "output_type": "stream",
          "name": "stdout",
          "text": [
            "Looking in indexes: https://pypi.org/simple, https://us-python.pkg.dev/colab-wheels/public/simple/\n",
            "Requirement already satisfied: kaggle in /usr/local/lib/python3.7/dist-packages (1.5.12)\n",
            "Requirement already satisfied: urllib3 in /usr/local/lib/python3.7/dist-packages (from kaggle) (1.24.3)\n",
            "Requirement already satisfied: six>=1.10 in /usr/local/lib/python3.7/dist-packages (from kaggle) (1.15.0)\n",
            "Requirement already satisfied: requests in /usr/local/lib/python3.7/dist-packages (from kaggle) (2.23.0)\n",
            "Requirement already satisfied: python-dateutil in /usr/local/lib/python3.7/dist-packages (from kaggle) (2.8.2)\n",
            "Requirement already satisfied: tqdm in /usr/local/lib/python3.7/dist-packages (from kaggle) (4.64.0)\n",
            "Requirement already satisfied: certifi in /usr/local/lib/python3.7/dist-packages (from kaggle) (2022.6.15)\n",
            "Requirement already satisfied: python-slugify in /usr/local/lib/python3.7/dist-packages (from kaggle) (6.1.2)\n",
            "Requirement already satisfied: text-unidecode>=1.3 in /usr/local/lib/python3.7/dist-packages (from python-slugify->kaggle) (1.3)\n",
            "Requirement already satisfied: chardet<4,>=3.0.2 in /usr/local/lib/python3.7/dist-packages (from requests->kaggle) (3.0.4)\n",
            "Requirement already satisfied: idna<3,>=2.5 in /usr/local/lib/python3.7/dist-packages (from requests->kaggle) (2.10)\n"
          ]
        }
      ],
      "source": [
        "!pip install kaggle"
      ]
    },
    {
      "cell_type": "code",
      "execution_count": null,
      "metadata": {
        "id": "3mFSOBmzXBcQ",
        "outputId": "68d3fffd-6968-40a2-bbad-acce96fd8da4",
        "colab": {
          "base_uri": "https://localhost:8080/"
        }
      },
      "outputs": [
        {
          "output_type": "stream",
          "name": "stdout",
          "text": [
            "Traceback (most recent call last):\n",
            "  File \"/usr/local/bin/kaggle\", line 5, in <module>\n",
            "    from kaggle.cli import main\n",
            "  File \"/usr/local/lib/python3.7/dist-packages/kaggle/__init__.py\", line 23, in <module>\n",
            "    api.authenticate()\n",
            "  File \"/usr/local/lib/python3.7/dist-packages/kaggle/api/kaggle_api_extended.py\", line 166, in authenticate\n",
            "    self.config_file, self.config_dir))\n",
            "OSError: Could not find kaggle.json. Make sure it's located in /root/.kaggle. Or use the environment method.\n"
          ]
        }
      ],
      "source": [
        "!kaggle datasets download -d tarunbisht11/yolo-animal-detection-small"
      ]
    },
    {
      "cell_type": "code",
      "execution_count": null,
      "metadata": {
        "id": "E_IE5rgQXBcR",
        "colab": {
          "base_uri": "https://localhost:8080/"
        },
        "outputId": "1f91cb9e-f4ce-43f2-fcbb-d987874c2ca1"
      },
      "outputs": [
        {
          "output_type": "stream",
          "name": "stdout",
          "text": [
            "unzip:  cannot find or open yolo-animal-detection-small.zip, yolo-animal-detection-small.zip.zip or yolo-animal-detection-small.zip.ZIP.\n"
          ]
        }
      ],
      "source": [
        "!unzip yolo-animal-detection-small.zip -d yolo-animal-small"
      ]
    },
    {
      "cell_type": "code",
      "execution_count": null,
      "metadata": {
        "id": "tNTOCuqpXBcS",
        "colab": {
          "base_uri": "https://localhost:8080/"
        },
        "outputId": "dea8b87d-e934-4c91-931c-920b675f42c6"
      },
      "outputs": [
        {
          "output_type": "stream",
          "name": "stdout",
          "text": [
            "Cloning into 'Practical-Deep-Learning-for-Coders-2.0'...\n",
            "remote: Enumerating objects: 1301, done.\u001b[K\n",
            "remote: Counting objects: 100% (74/74), done.\u001b[K\n",
            "remote: Compressing objects: 100% (52/52), done.\u001b[K\n",
            "remote: Total 1301 (delta 23), reused 48 (delta 21), pack-reused 1227\u001b[K\n",
            "Receiving objects: 100% (1301/1301), 86.34 MiB | 13.54 MiB/s, done.\n",
            "Resolving deltas: 100% (810/810), done.\n"
          ]
        }
      ],
      "source": [
        "!git clone https://github.com/muellerzr/Practical-Deep-Learning-for-Coders-2.0"
      ]
    },
    {
      "cell_type": "markdown",
      "metadata": {
        "id": "NdCaKmiLXBcS"
      },
      "source": [
        "## **สร้าง COCO Dataset จากชุดข้อมูล CSV**"
      ]
    },
    {
      "cell_type": "code",
      "execution_count": null,
      "metadata": {
        "id": "ej_MLB7AXBcT"
      },
      "outputs": [],
      "source": [
        "import json\n",
        "import ast\n",
        "import pandas as pd\n",
        "import os.path as op\n",
        "from pathlib import Path\n",
        "from PIL import Image"
      ]
    },
    {
      "cell_type": "code",
      "execution_count": null,
      "metadata": {
        "id": "TtiEe_Q5XBcT",
        "outputId": "5a71acd0-c497-41d4-d6ef-dc251aa41e86",
        "colab": {
          "base_uri": "https://localhost:8080/",
          "height": 357
        }
      },
      "outputs": [
        {
          "output_type": "error",
          "ename": "FileNotFoundError",
          "evalue": "ignored",
          "traceback": [
            "\u001b[0;31m---------------------------------------------------------------------------\u001b[0m",
            "\u001b[0;31mFileNotFoundError\u001b[0m                         Traceback (most recent call last)",
            "\u001b[0;32m<ipython-input-7-8d79081cc712>\u001b[0m in \u001b[0;36m<module>\u001b[0;34m()\u001b[0m\n\u001b[0;32m----> 1\u001b[0;31m \u001b[0mannotation_df\u001b[0m \u001b[0;34m=\u001b[0m \u001b[0mpd\u001b[0m\u001b[0;34m.\u001b[0m\u001b[0mread_csv\u001b[0m\u001b[0;34m(\u001b[0m\u001b[0;34m\"yolo-animal-small/train.csv\"\u001b[0m\u001b[0;34m)\u001b[0m\u001b[0;34m\u001b[0m\u001b[0;34m\u001b[0m\u001b[0m\n\u001b[0m\u001b[1;32m      2\u001b[0m \u001b[0mannotation_df\u001b[0m\u001b[0;34m.\u001b[0m\u001b[0mhead\u001b[0m\u001b[0;34m(\u001b[0m\u001b[0;34m)\u001b[0m\u001b[0;34m\u001b[0m\u001b[0;34m\u001b[0m\u001b[0m\n",
            "\u001b[0;32m/usr/local/lib/python3.7/dist-packages/pandas/util/_decorators.py\u001b[0m in \u001b[0;36mwrapper\u001b[0;34m(*args, **kwargs)\u001b[0m\n\u001b[1;32m    309\u001b[0m                     \u001b[0mstacklevel\u001b[0m\u001b[0;34m=\u001b[0m\u001b[0mstacklevel\u001b[0m\u001b[0;34m,\u001b[0m\u001b[0;34m\u001b[0m\u001b[0;34m\u001b[0m\u001b[0m\n\u001b[1;32m    310\u001b[0m                 )\n\u001b[0;32m--> 311\u001b[0;31m             \u001b[0;32mreturn\u001b[0m \u001b[0mfunc\u001b[0m\u001b[0;34m(\u001b[0m\u001b[0;34m*\u001b[0m\u001b[0margs\u001b[0m\u001b[0;34m,\u001b[0m \u001b[0;34m**\u001b[0m\u001b[0mkwargs\u001b[0m\u001b[0;34m)\u001b[0m\u001b[0;34m\u001b[0m\u001b[0;34m\u001b[0m\u001b[0m\n\u001b[0m\u001b[1;32m    312\u001b[0m \u001b[0;34m\u001b[0m\u001b[0m\n\u001b[1;32m    313\u001b[0m         \u001b[0;32mreturn\u001b[0m \u001b[0mwrapper\u001b[0m\u001b[0;34m\u001b[0m\u001b[0;34m\u001b[0m\u001b[0m\n",
            "\u001b[0;32m/usr/local/lib/python3.7/dist-packages/pandas/io/parsers/readers.py\u001b[0m in \u001b[0;36mread_csv\u001b[0;34m(filepath_or_buffer, sep, delimiter, header, names, index_col, usecols, squeeze, prefix, mangle_dupe_cols, dtype, engine, converters, true_values, false_values, skipinitialspace, skiprows, skipfooter, nrows, na_values, keep_default_na, na_filter, verbose, skip_blank_lines, parse_dates, infer_datetime_format, keep_date_col, date_parser, dayfirst, cache_dates, iterator, chunksize, compression, thousands, decimal, lineterminator, quotechar, quoting, doublequote, escapechar, comment, encoding, encoding_errors, dialect, error_bad_lines, warn_bad_lines, on_bad_lines, delim_whitespace, low_memory, memory_map, float_precision, storage_options)\u001b[0m\n\u001b[1;32m    584\u001b[0m     \u001b[0mkwds\u001b[0m\u001b[0;34m.\u001b[0m\u001b[0mupdate\u001b[0m\u001b[0;34m(\u001b[0m\u001b[0mkwds_defaults\u001b[0m\u001b[0;34m)\u001b[0m\u001b[0;34m\u001b[0m\u001b[0;34m\u001b[0m\u001b[0m\n\u001b[1;32m    585\u001b[0m \u001b[0;34m\u001b[0m\u001b[0m\n\u001b[0;32m--> 586\u001b[0;31m     \u001b[0;32mreturn\u001b[0m \u001b[0m_read\u001b[0m\u001b[0;34m(\u001b[0m\u001b[0mfilepath_or_buffer\u001b[0m\u001b[0;34m,\u001b[0m \u001b[0mkwds\u001b[0m\u001b[0;34m)\u001b[0m\u001b[0;34m\u001b[0m\u001b[0;34m\u001b[0m\u001b[0m\n\u001b[0m\u001b[1;32m    587\u001b[0m \u001b[0;34m\u001b[0m\u001b[0m\n\u001b[1;32m    588\u001b[0m \u001b[0;34m\u001b[0m\u001b[0m\n",
            "\u001b[0;32m/usr/local/lib/python3.7/dist-packages/pandas/io/parsers/readers.py\u001b[0m in \u001b[0;36m_read\u001b[0;34m(filepath_or_buffer, kwds)\u001b[0m\n\u001b[1;32m    480\u001b[0m \u001b[0;34m\u001b[0m\u001b[0m\n\u001b[1;32m    481\u001b[0m     \u001b[0;31m# Create the parser.\u001b[0m\u001b[0;34m\u001b[0m\u001b[0;34m\u001b[0m\u001b[0;34m\u001b[0m\u001b[0m\n\u001b[0;32m--> 482\u001b[0;31m     \u001b[0mparser\u001b[0m \u001b[0;34m=\u001b[0m \u001b[0mTextFileReader\u001b[0m\u001b[0;34m(\u001b[0m\u001b[0mfilepath_or_buffer\u001b[0m\u001b[0;34m,\u001b[0m \u001b[0;34m**\u001b[0m\u001b[0mkwds\u001b[0m\u001b[0;34m)\u001b[0m\u001b[0;34m\u001b[0m\u001b[0;34m\u001b[0m\u001b[0m\n\u001b[0m\u001b[1;32m    483\u001b[0m \u001b[0;34m\u001b[0m\u001b[0m\n\u001b[1;32m    484\u001b[0m     \u001b[0;32mif\u001b[0m \u001b[0mchunksize\u001b[0m \u001b[0;32mor\u001b[0m \u001b[0miterator\u001b[0m\u001b[0;34m:\u001b[0m\u001b[0;34m\u001b[0m\u001b[0;34m\u001b[0m\u001b[0m\n",
            "\u001b[0;32m/usr/local/lib/python3.7/dist-packages/pandas/io/parsers/readers.py\u001b[0m in \u001b[0;36m__init__\u001b[0;34m(self, f, engine, **kwds)\u001b[0m\n\u001b[1;32m    809\u001b[0m             \u001b[0mself\u001b[0m\u001b[0;34m.\u001b[0m\u001b[0moptions\u001b[0m\u001b[0;34m[\u001b[0m\u001b[0;34m\"has_index_names\"\u001b[0m\u001b[0;34m]\u001b[0m \u001b[0;34m=\u001b[0m \u001b[0mkwds\u001b[0m\u001b[0;34m[\u001b[0m\u001b[0;34m\"has_index_names\"\u001b[0m\u001b[0;34m]\u001b[0m\u001b[0;34m\u001b[0m\u001b[0;34m\u001b[0m\u001b[0m\n\u001b[1;32m    810\u001b[0m \u001b[0;34m\u001b[0m\u001b[0m\n\u001b[0;32m--> 811\u001b[0;31m         \u001b[0mself\u001b[0m\u001b[0;34m.\u001b[0m\u001b[0m_engine\u001b[0m \u001b[0;34m=\u001b[0m \u001b[0mself\u001b[0m\u001b[0;34m.\u001b[0m\u001b[0m_make_engine\u001b[0m\u001b[0;34m(\u001b[0m\u001b[0mself\u001b[0m\u001b[0;34m.\u001b[0m\u001b[0mengine\u001b[0m\u001b[0;34m)\u001b[0m\u001b[0;34m\u001b[0m\u001b[0;34m\u001b[0m\u001b[0m\n\u001b[0m\u001b[1;32m    812\u001b[0m \u001b[0;34m\u001b[0m\u001b[0m\n\u001b[1;32m    813\u001b[0m     \u001b[0;32mdef\u001b[0m \u001b[0mclose\u001b[0m\u001b[0;34m(\u001b[0m\u001b[0mself\u001b[0m\u001b[0;34m)\u001b[0m\u001b[0;34m:\u001b[0m\u001b[0;34m\u001b[0m\u001b[0;34m\u001b[0m\u001b[0m\n",
            "\u001b[0;32m/usr/local/lib/python3.7/dist-packages/pandas/io/parsers/readers.py\u001b[0m in \u001b[0;36m_make_engine\u001b[0;34m(self, engine)\u001b[0m\n\u001b[1;32m   1038\u001b[0m             )\n\u001b[1;32m   1039\u001b[0m         \u001b[0;31m# error: Too many arguments for \"ParserBase\"\u001b[0m\u001b[0;34m\u001b[0m\u001b[0;34m\u001b[0m\u001b[0;34m\u001b[0m\u001b[0m\n\u001b[0;32m-> 1040\u001b[0;31m         \u001b[0;32mreturn\u001b[0m \u001b[0mmapping\u001b[0m\u001b[0;34m[\u001b[0m\u001b[0mengine\u001b[0m\u001b[0;34m]\u001b[0m\u001b[0;34m(\u001b[0m\u001b[0mself\u001b[0m\u001b[0;34m.\u001b[0m\u001b[0mf\u001b[0m\u001b[0;34m,\u001b[0m \u001b[0;34m**\u001b[0m\u001b[0mself\u001b[0m\u001b[0;34m.\u001b[0m\u001b[0moptions\u001b[0m\u001b[0;34m)\u001b[0m  \u001b[0;31m# type: ignore[call-arg]\u001b[0m\u001b[0;34m\u001b[0m\u001b[0;34m\u001b[0m\u001b[0m\n\u001b[0m\u001b[1;32m   1041\u001b[0m \u001b[0;34m\u001b[0m\u001b[0m\n\u001b[1;32m   1042\u001b[0m     \u001b[0;32mdef\u001b[0m \u001b[0m_failover_to_python\u001b[0m\u001b[0;34m(\u001b[0m\u001b[0mself\u001b[0m\u001b[0;34m)\u001b[0m\u001b[0;34m:\u001b[0m\u001b[0;34m\u001b[0m\u001b[0;34m\u001b[0m\u001b[0m\n",
            "\u001b[0;32m/usr/local/lib/python3.7/dist-packages/pandas/io/parsers/c_parser_wrapper.py\u001b[0m in \u001b[0;36m__init__\u001b[0;34m(self, src, **kwds)\u001b[0m\n\u001b[1;32m     49\u001b[0m \u001b[0;34m\u001b[0m\u001b[0m\n\u001b[1;32m     50\u001b[0m         \u001b[0;31m# open handles\u001b[0m\u001b[0;34m\u001b[0m\u001b[0;34m\u001b[0m\u001b[0;34m\u001b[0m\u001b[0m\n\u001b[0;32m---> 51\u001b[0;31m         \u001b[0mself\u001b[0m\u001b[0;34m.\u001b[0m\u001b[0m_open_handles\u001b[0m\u001b[0;34m(\u001b[0m\u001b[0msrc\u001b[0m\u001b[0;34m,\u001b[0m \u001b[0mkwds\u001b[0m\u001b[0;34m)\u001b[0m\u001b[0;34m\u001b[0m\u001b[0;34m\u001b[0m\u001b[0m\n\u001b[0m\u001b[1;32m     52\u001b[0m         \u001b[0;32massert\u001b[0m \u001b[0mself\u001b[0m\u001b[0;34m.\u001b[0m\u001b[0mhandles\u001b[0m \u001b[0;32mis\u001b[0m \u001b[0;32mnot\u001b[0m \u001b[0;32mNone\u001b[0m\u001b[0;34m\u001b[0m\u001b[0;34m\u001b[0m\u001b[0m\n\u001b[1;32m     53\u001b[0m \u001b[0;34m\u001b[0m\u001b[0m\n",
            "\u001b[0;32m/usr/local/lib/python3.7/dist-packages/pandas/io/parsers/base_parser.py\u001b[0m in \u001b[0;36m_open_handles\u001b[0;34m(self, src, kwds)\u001b[0m\n\u001b[1;32m    227\u001b[0m             \u001b[0mmemory_map\u001b[0m\u001b[0;34m=\u001b[0m\u001b[0mkwds\u001b[0m\u001b[0;34m.\u001b[0m\u001b[0mget\u001b[0m\u001b[0;34m(\u001b[0m\u001b[0;34m\"memory_map\"\u001b[0m\u001b[0;34m,\u001b[0m \u001b[0;32mFalse\u001b[0m\u001b[0;34m)\u001b[0m\u001b[0;34m,\u001b[0m\u001b[0;34m\u001b[0m\u001b[0;34m\u001b[0m\u001b[0m\n\u001b[1;32m    228\u001b[0m             \u001b[0mstorage_options\u001b[0m\u001b[0;34m=\u001b[0m\u001b[0mkwds\u001b[0m\u001b[0;34m.\u001b[0m\u001b[0mget\u001b[0m\u001b[0;34m(\u001b[0m\u001b[0;34m\"storage_options\"\u001b[0m\u001b[0;34m,\u001b[0m \u001b[0;32mNone\u001b[0m\u001b[0;34m)\u001b[0m\u001b[0;34m,\u001b[0m\u001b[0;34m\u001b[0m\u001b[0;34m\u001b[0m\u001b[0m\n\u001b[0;32m--> 229\u001b[0;31m             \u001b[0merrors\u001b[0m\u001b[0;34m=\u001b[0m\u001b[0mkwds\u001b[0m\u001b[0;34m.\u001b[0m\u001b[0mget\u001b[0m\u001b[0;34m(\u001b[0m\u001b[0;34m\"encoding_errors\"\u001b[0m\u001b[0;34m,\u001b[0m \u001b[0;34m\"strict\"\u001b[0m\u001b[0;34m)\u001b[0m\u001b[0;34m,\u001b[0m\u001b[0;34m\u001b[0m\u001b[0;34m\u001b[0m\u001b[0m\n\u001b[0m\u001b[1;32m    230\u001b[0m         )\n\u001b[1;32m    231\u001b[0m \u001b[0;34m\u001b[0m\u001b[0m\n",
            "\u001b[0;32m/usr/local/lib/python3.7/dist-packages/pandas/io/common.py\u001b[0m in \u001b[0;36mget_handle\u001b[0;34m(path_or_buf, mode, encoding, compression, memory_map, is_text, errors, storage_options)\u001b[0m\n\u001b[1;32m    705\u001b[0m                 \u001b[0mencoding\u001b[0m\u001b[0;34m=\u001b[0m\u001b[0mioargs\u001b[0m\u001b[0;34m.\u001b[0m\u001b[0mencoding\u001b[0m\u001b[0;34m,\u001b[0m\u001b[0;34m\u001b[0m\u001b[0;34m\u001b[0m\u001b[0m\n\u001b[1;32m    706\u001b[0m                 \u001b[0merrors\u001b[0m\u001b[0;34m=\u001b[0m\u001b[0merrors\u001b[0m\u001b[0;34m,\u001b[0m\u001b[0;34m\u001b[0m\u001b[0;34m\u001b[0m\u001b[0m\n\u001b[0;32m--> 707\u001b[0;31m                 \u001b[0mnewline\u001b[0m\u001b[0;34m=\u001b[0m\u001b[0;34m\"\"\u001b[0m\u001b[0;34m,\u001b[0m\u001b[0;34m\u001b[0m\u001b[0;34m\u001b[0m\u001b[0m\n\u001b[0m\u001b[1;32m    708\u001b[0m             )\n\u001b[1;32m    709\u001b[0m         \u001b[0;32melse\u001b[0m\u001b[0;34m:\u001b[0m\u001b[0;34m\u001b[0m\u001b[0;34m\u001b[0m\u001b[0m\n",
            "\u001b[0;31mFileNotFoundError\u001b[0m: [Errno 2] No such file or directory: 'yolo-animal-small/train.csv'"
          ]
        }
      ],
      "source": [
        "annotation_df = pd.read_csv(\"yolo-animal-small/train.csv\")\n",
        "annotation_df.head()"
      ]
    },
    {
      "cell_type": "code",
      "execution_count": null,
      "metadata": {
        "id": "6cUDZ0BhXBcU"
      },
      "outputs": [],
      "source": [
        "Image.open(\"yolo-animal-small/yolo-animal-detection-small/train/cats_and_monkeys_097.jpg\")"
      ]
    },
    {
      "cell_type": "code",
      "execution_count": null,
      "metadata": {
        "id": "S-N1JOPAXBcU"
      },
      "outputs": [],
      "source": [
        "annotation_df[\"bbox\"] = annotation_df.apply(\n",
        "    lambda r: [r[\"xmin\"], r[\"ymin\"], r[\"xmax\"] - r[\"xmin\"], r[\"ymax\"] - r[\"ymin\"]],\n",
        "    axis=1\n",
        ")\n",
        "annotation_df[\"area\"] = annotation_df.apply(lambda r: r[\"bbox\"][2] * r[\"bbox\"][3], axis=1)\n",
        "annotation_df[\"id\"] = annotation_df.filename.map(lambda x: Path(x).stem)"
      ]
    },
    {
      "cell_type": "code",
      "execution_count": null,
      "metadata": {
        "id": "2gIVbKbQXBcV"
      },
      "outputs": [],
      "source": [
        "annotation_df.head()"
      ]
    },
    {
      "cell_type": "code",
      "execution_count": null,
      "metadata": {
        "id": "wqK1ZH0VXBcW"
      },
      "outputs": [],
      "source": [
        "img_df = annotation_df.groupby(\"id\").first().reset_index()[[\"id\", \"width\", \"height\"]]\n",
        "img_df[\"file_name\"] = img_df.id.map(lambda p: op.join(\"yolo-animal-small/yolo-animal-detection-small/train/\", f\"{p}.jpg\"))"
      ]
    },
    {
      "cell_type": "code",
      "execution_count": null,
      "metadata": {
        "id": "kXhddH_FXBcX"
      },
      "outputs": [],
      "source": [
        "img_df.head()"
      ]
    },
    {
      "cell_type": "code",
      "execution_count": null,
      "metadata": {
        "id": "MK9qFATVXBcX"
      },
      "outputs": [],
      "source": [
        "images = img_df.to_dict(\"records\")\n",
        "\n",
        "categories = []\n",
        "for i, c in enumerate(annotation_df[\"class\"].unique()):\n",
        "    categories.append({\"supercategory\": \"animal\", \"id\": i, \"name\": c})\n",
        "cat2idx = {r[\"name\"]: r[\"id\"] for r in categories}"
      ]
    },
    {
      "cell_type": "code",
      "execution_count": null,
      "metadata": {
        "id": "ojZCYio8XBcY"
      },
      "outputs": [],
      "source": [
        "categories"
      ]
    },
    {
      "cell_type": "code",
      "execution_count": null,
      "metadata": {
        "id": "NKktMU4_XBcZ"
      },
      "outputs": [],
      "source": [
        "annotation_df[\"category_id\"] = annotation_df[\"class\"].map(cat2idx)"
      ]
    },
    {
      "cell_type": "code",
      "execution_count": null,
      "metadata": {
        "id": "ZfUvFjxqXBcZ"
      },
      "outputs": [],
      "source": [
        "annotation_df.head()"
      ]
    },
    {
      "cell_type": "code",
      "execution_count": null,
      "metadata": {
        "id": "qotNX181XBca"
      },
      "outputs": [],
      "source": [
        "annotation_df.rename(columns={\"id\": \"image_id\"}, inplace=True)"
      ]
    },
    {
      "cell_type": "code",
      "execution_count": null,
      "metadata": {
        "id": "S6QsozA5XBca"
      },
      "outputs": [],
      "source": [
        "annotation_df[\"id\"] = list(range(len(annotation_df)))\n",
        "annotation_df[\"iscrowd\"] = 0"
      ]
    },
    {
      "cell_type": "code",
      "execution_count": null,
      "metadata": {
        "id": "907ieQKnXBca"
      },
      "outputs": [],
      "source": [
        "annotations = annotation_df[[\"id\", \"category_id\", \"iscrowd\", \"bbox\", \"image_id\", \"area\"]].to_dict(\"records\")"
      ]
    },
    {
      "cell_type": "code",
      "execution_count": null,
      "metadata": {
        "id": "IzOluovoXBcb"
      },
      "outputs": [],
      "source": [
        "coco_format = {\n",
        "    \"info\": {\"description\": \"Monkey Cat Dog Dataset from Kaggle\", \"url\": \"https://www.kaggle.com/datasets/tarunbisht11/yolo-animal-detection-small\"},\n",
        "    \"licenses\": [\n",
        "        {\"url\": \"https://www.kaggle.com/datasets/tarunbisht11/yolo-animal-detection-small\"}\n",
        "    ],\n",
        "    \"images\": images,\n",
        "    \"annotations\": annotations,\n",
        "    \"categories\": categories\n",
        "}"
      ]
    },
    {
      "cell_type": "code",
      "execution_count": null,
      "metadata": {
        "id": "_oQmac4xXBcb"
      },
      "outputs": [],
      "source": [
        "json.dump(coco_format, open(\"yolo-animal-small/coco_format.json\", \"w\"), indent=2)"
      ]
    },
    {
      "cell_type": "code",
      "execution_count": null,
      "metadata": {
        "id": "dxOudalPXBcb"
      },
      "outputs": [],
      "source": [
        "coco_format_load = json.load(open(\"yolo-animal-small/coco_format.json\", \"r\"))"
      ]
    },
    {
      "cell_type": "markdown",
      "metadata": {
        "id": "BeWiEYGCXBcc"
      },
      "source": [
        "## **FastAI for Object detection**\n",
        "\n",
        "Description: https://walkwithfastai.com/Object_Detection\n",
        "Reference: https://youtu.be/5bSVug1YB3s?t=2067"
      ]
    },
    {
      "cell_type": "code",
      "execution_count": null,
      "metadata": {
        "id": "mOwUtinAXBcc"
      },
      "outputs": [],
      "source": [
        "from fastbook import *\n",
        "from fastai.vision.all import *\n",
        "\n",
        "# add path ไปยัง Github ที่ clone มา\n",
        "import sys\n",
        "sys.path.append('Practical-Deep-Learning-for-Coders-2.0/Computer Vision/')\n",
        "from imports import *"
      ]
    },
    {
      "cell_type": "code",
      "execution_count": null,
      "metadata": {
        "id": "hQfMjY2gXBcd"
      },
      "outputs": [],
      "source": [
        "# คำสั่งของ FastAI เพื่อได้ภาพ และ label boxes สำหรับแต่ละภาพ\n",
        "imgs, label_bbox = get_annotations(\"yolo-animal-small/coco_format.json\")\n",
        "img2bbox = dict(zip(imgs, label_bbox))"
      ]
    },
    {
      "cell_type": "code",
      "execution_count": null,
      "metadata": {
        "id": "V3UKNVBGXBcd"
      },
      "outputs": [],
      "source": [
        "# place holder สำหรับ get_items\n",
        "def get_train_images(noop = None):\n",
        "    return imgs"
      ]
    },
    {
      "cell_type": "code",
      "execution_count": null,
      "metadata": {
        "id": "4LO_BT3xXBce"
      },
      "outputs": [],
      "source": [
        "images = get_train_images()"
      ]
    },
    {
      "cell_type": "code",
      "execution_count": null,
      "metadata": {
        "id": "wGieuao-XBce"
      },
      "outputs": [],
      "source": [
        "funcs = [lambda o: o, lambda o: img2bbox[o][0], lambda o: img2bbox[o][1]]\n",
        "item_tfms = [Resize(224)]\n",
        "batch_tfms = [Rotate(), Flip(), Dihedral(), Normalize.from_stats(*imagenet_stats)]\n",
        "\n",
        "wheat_datablock = DataBlock(\n",
        "    blocks=(ImageBlock, BBoxBlock, BBoxLblBlock),\n",
        "    splitter=RandomSplitter(valid_pct=0.2),\n",
        "    get_items=get_train_images,\n",
        "    getters=funcs,\n",
        "    item_tfms=item_tfms,\n",
        "    batch_tfms=batch_tfms,\n",
        "    n_inp=1\n",
        ")"
      ]
    },
    {
      "cell_type": "code",
      "execution_count": null,
      "metadata": {
        "id": "iWIy0oZ1XBcf"
      },
      "outputs": [],
      "source": [
        "dls = wheat_datablock.dataloaders(\"yolo-animal-small/yolo-animal-detection-small/train/\")\n",
        "dls.c = 3"
      ]
    },
    {
      "cell_type": "code",
      "execution_count": null,
      "metadata": {
        "id": "1nv3116OXBcf"
      },
      "outputs": [],
      "source": [
        "dls.show_batch(max_n=10)"
      ]
    },
    {
      "cell_type": "code",
      "execution_count": null,
      "metadata": {
        "id": "n8Ped20JXBcf"
      },
      "outputs": [],
      "source": [
        "encoder = create_body(resnet34, pretrained=True)"
      ]
    },
    {
      "cell_type": "code",
      "execution_count": null,
      "metadata": {
        "id": "w61GUuYyXBch"
      },
      "outputs": [],
      "source": [
        "get_c(dls) # นับจำนวน Class"
      ]
    },
    {
      "cell_type": "code",
      "execution_count": null,
      "metadata": {
        "id": "a5-JqrLOXBch"
      },
      "outputs": [],
      "source": [
        "# สร้าง RetinaNet ด้วย Resnet34 encoder \n",
        "retina_net = RetinaNet(encoder, get_c(dls), final_bias=-4)"
      ]
    },
    {
      "cell_type": "code",
      "execution_count": null,
      "metadata": {
        "scrolled": true,
        "id": "S0QLyOQgXBci"
      },
      "outputs": [],
      "source": [
        "retina_net.box_regressor"
      ]
    },
    {
      "cell_type": "code",
      "execution_count": null,
      "metadata": {
        "id": "ke-gxLchXBcj"
      },
      "outputs": [],
      "source": [
        "criterion = RetinaNetFocalLoss(scales=[1, 2**(-1/3), 2**(-2/3)], ratios=[1/2, 1, 2])"
      ]
    },
    {
      "cell_type": "code",
      "execution_count": null,
      "metadata": {
        "id": "mYOOe7UuXBck"
      },
      "outputs": [],
      "source": [
        "def _retinanet_split(m):\n",
        "    return L(\n",
        "        m.encoder,\n",
        "        nn.Sequential(m.c5top6, m.p6top7, m.merges, m.smoothers, m.classifier, m.box_regressor)\n",
        "    ).map(params)"
      ]
    },
    {
      "cell_type": "code",
      "execution_count": null,
      "metadata": {
        "id": "NedBnX2ZXBck"
      },
      "outputs": [],
      "source": [
        "learner = Learner(dls, retina_net, loss_func=criterion, splitter=_retinanet_split)"
      ]
    },
    {
      "cell_type": "code",
      "execution_count": null,
      "metadata": {
        "id": "cRVBI92OXBcl"
      },
      "outputs": [],
      "source": [
        "learner.freeze()"
      ]
    },
    {
      "cell_type": "code",
      "execution_count": null,
      "metadata": {
        "id": "zpsM72zfXBcl"
      },
      "outputs": [],
      "source": [
        "# มี error จาก FastAI\n",
        "# ref: https://forums.fast.ai/t/typeerror-no-implementation-found-for-torch-nn-functional-smooth-l1-loss-on-types-that-implement-torch-function-class-fastai-torch-core-tensorimage-class-fastai-vision-core-tensorbbox/90897\n",
        "# ที่สามารถแก้ได้ด้วยบรรทัดต่อไปนี้\n",
        "TensorImage.register_func(torch.nn.functional.smooth_l1_loss, TensorImage, TensorBBox)\n",
        "TensorMultiCategory.register_func(TensorMultiCategory.mul, TensorMultiCategory, TensorImage)\n",
        "TensorImage.register_func(torch.nn.functional.binary_cross_entropy_with_logits, TensorImage, TensorMultiCategory)"
      ]
    },
    {
      "cell_type": "code",
      "execution_count": null,
      "metadata": {
        "id": "3eUiybbFXBcm"
      },
      "outputs": [],
      "source": [
        "learner.fit_one_cycle(10, slice(1e-5, 1e-4))"
      ]
    },
    {
      "cell_type": "markdown",
      "metadata": {
        "id": "MQnb8EtfXBcn"
      },
      "source": [
        "## **Object detection ด้วย IceVision**\n",
        "\n",
        "ใน Section นี้เราจะใช้ไลบรารี่ Icevision ในการสร้างโมเดล Object detection กัน"
      ]
    },
    {
      "cell_type": "code",
      "execution_count": null,
      "metadata": {
        "id": "kK1wcJjFXBcn"
      },
      "outputs": [],
      "source": [
        "import os.path as op\n",
        "import pandas as pd\n",
        "from icevision.all import *"
      ]
    },
    {
      "cell_type": "code",
      "execution_count": null,
      "metadata": {
        "id": "GnneowxVXBco"
      },
      "outputs": [],
      "source": [
        "df = pd.read_csv(\"yolo-animal-small/train.csv\")\n",
        "df.rename(columns={\"class\": \"label\"}, inplace=True)"
      ]
    },
    {
      "cell_type": "code",
      "execution_count": null,
      "metadata": {
        "id": "iGIeHFxAXBco"
      },
      "outputs": [],
      "source": [
        "df.to_csv(\"yolo-animal-small/train_annotation.csv\", index=False)"
      ]
    },
    {
      "cell_type": "code",
      "execution_count": null,
      "metadata": {
        "id": "CNWNBBI7XBcp"
      },
      "outputs": [],
      "source": [
        "df.head()"
      ]
    },
    {
      "cell_type": "code",
      "execution_count": null,
      "metadata": {
        "id": "8MxH8Jm-XBcp"
      },
      "outputs": [],
      "source": [
        "template_record = ObjectDetectionRecord()\n",
        "\n",
        "class YoloSmallDataset(Parser):\n",
        "    def __init__(self, template_record):\n",
        "        super().__init__(template_record=template_record)\n",
        "        self.df = pd.read_csv(\"yolo-animal-small/train_annotation.csv\")\n",
        "        self.class_map = ClassMap(list(self.df['label'].unique()))\n",
        "\n",
        "    def __iter__(self) -> Any:\n",
        "        for o in self.df.itertuples():\n",
        "            yield o\n",
        "\n",
        "    def __len__(self) -> int:\n",
        "        return len(self.df)\n",
        "\n",
        "    def record_id(self, o) -> Hashable:\n",
        "        return o.filename\n",
        "\n",
        "    def parse_fields(self, o, record, is_new):\n",
        "        if is_new:\n",
        "            record.set_filepath(op.join(\"yolo-animal-small/yolo-animal-detection-small/\", \"train\", o.filename))\n",
        "            record.set_img_size(ImgSize(width=o.width, height=o.height))\n",
        "            record.detection.set_class_map(self.class_map)\n",
        "\n",
        "        record.detection.add_bboxes([BBox.from_xyxy(o.xmin, o.ymin, o.xmax, o.ymax)])\n",
        "        record.detection.add_labels([o.label])"
      ]
    },
    {
      "cell_type": "code",
      "execution_count": null,
      "metadata": {
        "id": "_ZVGmQn9XBcp"
      },
      "outputs": [],
      "source": [
        "parser = YoloSmallDataset(template_record)\n",
        "train_records, valid_records = parser.parse()"
      ]
    },
    {
      "cell_type": "code",
      "execution_count": null,
      "metadata": {
        "id": "1vNYPrq-XBcq"
      },
      "outputs": [],
      "source": [
        "len(train_records), len(valid_records)"
      ]
    },
    {
      "cell_type": "code",
      "execution_count": null,
      "metadata": {
        "id": "Ofw6324OXBcq"
      },
      "outputs": [],
      "source": [
        "model_type = models.mmdet.retinanet\n",
        "backbone = model_type.backbones.resnet50_fpn_1x"
      ]
    },
    {
      "cell_type": "code",
      "execution_count": null,
      "metadata": {
        "id": "9JBXd4T0XBcr"
      },
      "outputs": [],
      "source": [
        "train_tfms = tfms.A.Adapter([*tfms.A.aug_tfms(size=224, presize=512), tfms.A.Normalize()])\n",
        "valid_tfms = tfms.A.Adapter([*tfms.A.resize_and_pad(224), tfms.A.Normalize()])"
      ]
    },
    {
      "cell_type": "code",
      "execution_count": null,
      "metadata": {
        "id": "paox0MtYXBcr"
      },
      "outputs": [],
      "source": [
        "train_ds = Dataset(train_records, train_tfms)\n",
        "valid_ds = Dataset(valid_records, valid_tfms)"
      ]
    },
    {
      "cell_type": "code",
      "execution_count": null,
      "metadata": {
        "id": "oHSaFplFXBcr"
      },
      "outputs": [],
      "source": [
        "train_dl = model_type.train_dl(train_ds, batch_size=8, num_workers=4, shuffle=True)\n",
        "valid_dl = model_type.train_dl(train_ds, batch_size=8, num_workers=4, shuffle=False)"
      ]
    },
    {
      "cell_type": "code",
      "execution_count": null,
      "metadata": {
        "id": "SRgxCzCzXBcr"
      },
      "outputs": [],
      "source": [
        "samples = [train_ds[10] for _ in range(5)]\n",
        "show_samples(samples, ncols=3)"
      ]
    },
    {
      "cell_type": "code",
      "execution_count": null,
      "metadata": {
        "id": "wpVCEOW2XBcs"
      },
      "outputs": [],
      "source": [
        "model = model_type.model(backbone=backbone(pretrained=True), num_classes=len(parser.class_map))"
      ]
    },
    {
      "cell_type": "code",
      "execution_count": null,
      "metadata": {
        "id": "pSlGsLv5XBcs"
      },
      "outputs": [],
      "source": [
        "metrics = [COCOMetric(metric_type=COCOMetricType.bbox)]\n",
        "learner = model_type.fastai.learner(dls=[train_dl, valid_dl], model=model, metrics=metrics)"
      ]
    },
    {
      "cell_type": "code",
      "execution_count": null,
      "metadata": {
        "id": "AGFy-zWAXBcs"
      },
      "outputs": [],
      "source": [
        "learner.lr_find()"
      ]
    },
    {
      "cell_type": "code",
      "execution_count": null,
      "metadata": {
        "id": "K6y4270sXBcs"
      },
      "outputs": [],
      "source": [
        "learner.fine_tune(20, 1e-4, freeze_epochs=1)"
      ]
    },
    {
      "cell_type": "code",
      "execution_count": null,
      "metadata": {
        "id": "Lmdh60soXBcs"
      },
      "outputs": [],
      "source": [
        "from icevision.models import *"
      ]
    },
    {
      "cell_type": "code",
      "execution_count": null,
      "metadata": {
        "id": "EbvU4RgOXBcs"
      },
      "outputs": [],
      "source": [
        "m = ClassMap(list(df['label'].unique()))\n",
        "m.get_classes()"
      ]
    },
    {
      "cell_type": "code",
      "execution_count": null,
      "metadata": {
        "id": "zZg0QBc_XBct"
      },
      "outputs": [],
      "source": [
        "# เซฟโมเดลด้วยคำสั่ง `save_icevision_checkpoint`\n",
        "checkpoint_path = \"monkeycatdog_det.pth\"\n",
        "save_icevision_checkpoint(\n",
        "    model, \n",
        "    model_name='mmdet.retinanet', \n",
        "    backbone_name='resnet50_fpn_1x',\n",
        "    classes=m.get_classes(),\n",
        "    img_size=224,\n",
        "    filename=checkpoint_path,\n",
        "    meta={\"icevision_version\": \"0.12.0\"}\n",
        ")"
      ]
    },
    {
      "cell_type": "markdown",
      "metadata": {
        "id": "-AImqUWaXBct"
      },
      "source": [
        "## **Example prediction**\n",
        "\n",
        "ลองใช้โมเดลทำนายผลใน validation dataset `valid_ds`"
      ]
    },
    {
      "cell_type": "code",
      "execution_count": null,
      "metadata": {
        "id": "PsuKQrjoXBct"
      },
      "outputs": [],
      "source": [
        "# โหลดโมเดลที่เซฟมาเพื่อทำนายผลใน validation set\n",
        "model_loaded = model_from_checkpoint(\"monkeycatdog_det.pth\")"
      ]
    },
    {
      "cell_type": "code",
      "execution_count": null,
      "metadata": {
        "id": "0MfhDYfpXBct"
      },
      "outputs": [],
      "source": [
        "model_type = model_loaded[\"model_type\"]\n",
        "backbone = model_loaded[\"backbone\"]\n",
        "class_map = model_loaded[\"class_map\"]\n",
        "img_size = model_loaded[\"img_size\"]\n",
        "model_type, backbone, class_map, img_size"
      ]
    },
    {
      "cell_type": "code",
      "execution_count": null,
      "metadata": {
        "scrolled": false,
        "id": "viyUp2JPXBct"
      },
      "outputs": [],
      "source": [
        "model_type.show_results(model_loaded[\"model\"], valid_ds, detection_threshold=0.4)"
      ]
    },
    {
      "cell_type": "code",
      "execution_count": null,
      "metadata": {
        "id": "rBGAkxO9XBcu"
      },
      "outputs": [],
      "source": [
        ""
      ]
    }
  ],
  "metadata": {
    "kernelspec": {
      "display_name": "Python 3",
      "language": "python",
      "name": "python3"
    },
    "language_info": {
      "codemirror_mode": {
        "name": "ipython",
        "version": 3
      },
      "file_extension": ".py",
      "mimetype": "text/x-python",
      "name": "python",
      "nbconvert_exporter": "python",
      "pygments_lexer": "ipython3",
      "version": "3.8.10"
    },
    "colab": {
      "name": "Object_Detection.ipynb",
      "provenance": [],
      "include_colab_link": true
    }
  },
  "nbformat": 4,
  "nbformat_minor": 0
}